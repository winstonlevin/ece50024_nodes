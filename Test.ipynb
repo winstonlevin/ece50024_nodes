{
  "nbformat": 4,
  "nbformat_minor": 0,
  "metadata": {
    "colab": {
      "provenance": [],
      "authorship_tag": "ABX9TyMBYZs7IICGLvoOdnKrRhTJ",
      "include_colab_link": true
    },
    "kernelspec": {
      "name": "python3",
      "display_name": "Python 3"
    },
    "language_info": {
      "name": "python"
    }
  },
  "cells": [
    {
      "cell_type": "markdown",
      "metadata": {
        "id": "view-in-github",
        "colab_type": "text"
      },
      "source": [
        "<a href=\"https://colab.research.google.com/github/winstonlevin/ece50024_nodes/blob/ChingYu_Cheng/Test.ipynb\" target=\"_parent\"><img src=\"https://colab.research.google.com/assets/colab-badge.svg\" alt=\"Open In Colab\"/></a>"
      ]
    },
    {
      "cell_type": "code",
      "execution_count": 2,
      "metadata": {
        "colab": {
          "base_uri": "https://localhost:8080/"
        },
        "id": "J_vDvp5VETnD",
        "outputId": "e9a04e2f-cc5e-4123-9af7-6562e2e13f97"
      },
      "outputs": [
        {
          "output_type": "stream",
          "name": "stdout",
          "text": [
            "/bin/bash: -c: line 1: syntax error near unexpected token `newline'\n",
            "/bin/bash: -c: line 1: `pip install -e <https://github.com/winstonlevin/ece50024_nodes.git>'\n"
          ]
        }
      ],
      "source": [
        "!pip install -e <https://github.com/winstonlevin/ece50024_nodes.git>\n",
        "\n"
      ]
    },
    {
      "cell_type": "code",
      "source": [],
      "metadata": {
        "id": "pjHisQtqOnTv"
      },
      "execution_count": 1,
      "outputs": []
    }
  ]
}